{
 "cells": [
  {
   "cell_type": "code",
   "execution_count": 120,
   "id": "758ecd92-6f43-4549-9503-25b9dda616a6",
   "metadata": {},
   "outputs": [
    {
     "name": "stdin",
     "output_type": "stream",
     "text": [
      "Percentage of time spent playing video games?  10\n",
      "Frequent flier miles earned per year?  10000\n",
      "Liters of ice cream consumed per year?  0.5\n"
     ]
    },
    {
     "name": "stdout",
     "output_type": "stream",
     "text": [
      "Neighbors and distances: [('smallDoses', 1.4977985178675592), ('smallDoses', 1.7868956489223762), ('smallDoses', 3.6576154562507397), ('smallDoses', 5.3358040932771695), ('smallDoses', 7.183540058564558)]\n",
      "You will probably like this person: smallDoses\n"
     ]
    }
   ],
   "source": [
    "import numpy as np\n",
    "from collections import Counter\n",
    "\n",
    "class Knn:\n",
    "\n",
    "    def __init__(self, k=5):\n",
    "        self.n_neighbors = k\n",
    "        self.X_train = None\n",
    "        self.y_train = None\n",
    "\n",
    "    def fit(self, X_train, y_train):\n",
    "        self.X_train = X_train\n",
    "        self.y_train = y_train\n",
    "\n",
    "    def predict(self, X_test):\n",
    "\n",
    "        y_pred = []\n",
    "\n",
    "        for i in X_test:\n",
    "            distances = []\n",
    "            for j in self.X_train:\n",
    "                distances.append(self.calculate_distance(i, j))\n",
    "            \n",
    "            # Find k nearest neighbors\n",
    "            n_neighbors = sorted(list(enumerate(distances)), key=lambda x: x[1])[0:self.n_neighbors]\n",
    "\n",
    "            # Debug: Print neighbors and their distances\n",
    "            print(\"Neighbors and distances:\", [(self.y_train[n[0]], n[1]) for n in n_neighbors])\n",
    "\n",
    "            label = self.majority_count(n_neighbors)\n",
    "            y_pred.append(label)\n",
    "        return np.array(y_pred)\n",
    "\n",
    "    def calculate_distance(self, point_A, point_B):\n",
    "        return np.linalg.norm(point_A - point_B)\n",
    "\n",
    "    def majority_count(self, neighbors):\n",
    "        votes = []\n",
    "        for i in neighbors:\n",
    "            votes.append(self.y_train[i[0]])\n",
    "        votes = Counter(votes)\n",
    "        return votes.most_common()[0][0]\n",
    "\n",
    "    @staticmethod\n",
    "    def file2matrix(filename):\n",
    "        with open(filename) as fr:\n",
    "            lines = fr.readlines()\n",
    "        numberOfLines = len(lines)\n",
    "        returnMat = np.zeros((numberOfLines, 3))  # Assume 3 features: miles, tats, iceCream\n",
    "        classLabelVector = []\n",
    "        index = 0\n",
    "        for line in lines:\n",
    "            line = line.strip()\n",
    "            listFromLine = line.split('\\t')\n",
    "            returnMat[index, :] = listFromLine[0:3]\n",
    "            classLabelVector.append(listFromLine[-1])\n",
    "            index += 1\n",
    "        return returnMat, classLabelVector\n",
    "\n",
    "    @staticmethod\n",
    " \n",
    "\n",
    "    def autoNorm(dataSet):\n",
    "        minVals = dataSet.min(0)  # Get the minimum values of each feature (column-wise)\n",
    "        maxVals = dataSet.max(0)  # Get the maximum values of each feature (column-wise)\n",
    "        ranges = maxVals - minVals  # Calculate the range for each feature\n",
    "    \n",
    "    # Initialize the normalized dataset\n",
    "        normDataSet = np.zeros(dataSet.shape)\n",
    "        m = dataSet.shape[0]\n",
    "    \n",
    "    # Normalize by subtracting the minimum and dividing by the range\n",
    "        normDataSet = dataSet - np.tile(minVals, (m, 1))\n",
    "        normDataSet = normDataSet / np.tile(ranges, (m, 1))  # Element-wise division\n",
    "    \n",
    "        return normDataSet, ranges, minVals\n",
    "\n",
    "\n",
    "    def classifyPerson(self):\n",
    "        resultList = {'didntLike': 'not at all', 'smallDoses': 'in small doses', 'largeDoses': 'in large doses'}\n",
    "        percentTats = float(input(\"Percentage of time spent playing video games? \"))\n",
    "        ffMiles = float(input(\"Frequent flier miles earned per year? \"))\n",
    "        iceCream = float(input(\"Liters of ice cream consumed per year? \"))\n",
    "\n",
    "        # Load and normalize data\n",
    "        datingDataMat, datingLabels = Knn.file2matrix('datingTestSet.txt')  # Adjust the path to your data\n",
    "        normMat, ranges, minVals = Knn.autoNorm(datingDataMat)\n",
    "\n",
    "        # Normalize input data\n",
    "        inArr = np.array([ffMiles, percentTats, iceCream])\n",
    "        normInArr = (inArr - minVals) / ranges\n",
    "\n",
    "        # Predict the class using the trained KNN model\n",
    "        classifierResult = self.predict([normInArr])[0]\n",
    "        print(\"You will probably like this person:\", classifierResult)\n",
    "\n",
    "\n",
    "# Example Usage:\n",
    "\n",
    "# Load the data\n",
    "datingDataMat, datingLabels = Knn.file2matrix('datingTestSet.txt')\n",
    "\n",
    "# Instantiate and train the KNN classifier\n",
    "knn = Knn(k=5)  # Adjust k to try different values\n",
    "knn.fit(datingDataMat, datingLabels)\n",
    "\n",
    "# Classify a person based on input\n",
    "knn.classifyPerson()\n",
    "\n"
   ]
  },
  {
   "cell_type": "code",
   "execution_count": 121,
   "id": "a3d5cdc0-fc98-4531-8b7c-5631b01f14f4",
   "metadata": {},
   "outputs": [
    {
     "ename": "NameError",
     "evalue": "name 'normMat' is not defined",
     "output_type": "error",
     "traceback": [
      "\u001b[1;31m---------------------------------------------------------------------------\u001b[0m",
      "\u001b[1;31mNameError\u001b[0m                                 Traceback (most recent call last)",
      "Cell \u001b[1;32mIn[121], line 1\u001b[0m\n\u001b[1;32m----> 1\u001b[0m \u001b[43mnormMat\u001b[49m\n",
      "\u001b[1;31mNameError\u001b[0m: name 'normMat' is not defined"
     ]
    }
   ],
   "source": [
    "normMat"
   ]
  },
  {
   "cell_type": "code",
   "execution_count": 29,
   "id": "83015573-2a11-44c6-a1b9-776a25bbc85c",
   "metadata": {},
   "outputs": [
    {
     "data": {
      "text/plain": [
       "['largeDoses',\n",
       " 'smallDoses',\n",
       " 'didntLike',\n",
       " 'didntLike',\n",
       " 'didntLike',\n",
       " 'didntLike',\n",
       " 'largeDoses',\n",
       " 'largeDoses',\n",
       " 'didntLike',\n",
       " 'largeDoses',\n",
       " 'didntLike',\n",
       " 'didntLike',\n",
       " 'smallDoses',\n",
       " 'didntLike',\n",
       " 'didntLike',\n",
       " 'didntLike',\n",
       " 'didntLike',\n",
       " 'didntLike',\n",
       " 'smallDoses',\n",
       " 'largeDoses']"
      ]
     },
     "execution_count": 29,
     "metadata": {},
     "output_type": "execute_result"
    }
   ],
   "source": [
    "datingLabels[0:20]"
   ]
  },
  {
   "cell_type": "code",
   "execution_count": null,
   "id": "a32e1d43-e6fc-475a-bd6d-ba793ea4de00",
   "metadata": {},
   "outputs": [],
   "source": []
  }
 ],
 "metadata": {
  "kernelspec": {
   "display_name": "Python 3 (ipykernel)",
   "language": "python",
   "name": "python3"
  },
  "language_info": {
   "codemirror_mode": {
    "name": "ipython",
    "version": 3
   },
   "file_extension": ".py",
   "mimetype": "text/x-python",
   "name": "python",
   "nbconvert_exporter": "python",
   "pygments_lexer": "ipython3",
   "version": "3.11.7"
  }
 },
 "nbformat": 4,
 "nbformat_minor": 5
}
