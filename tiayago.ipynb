{
 "cells": [
  {
   "cell_type": "code",
   "execution_count": 5,
   "id": "46277909-eb49-487d-8fdd-2ce7be09763f",
   "metadata": {
    "scrolled": true
   },
   "outputs": [
    {
     "name": "stdin",
     "output_type": "stream",
     "text": [
      "percentage of time spent playing video games? 13\n",
      "frequent flier miles earned per year? 75000\n",
      "liters of ice cream consumed per year? 1.2\n"
     ]
    },
    {
     "name": "stdout",
     "output_type": "stream",
     "text": [
      "You will probably like this person:  didntLike\n"
     ]
    }
   ],
   "source": [
    "import numpy as np\n",
    "\n",
    "# Load data from file and process it into a matrix and a label vector\n",
    "def file2matrix(filename):\n",
    "    fr = open(filename)\n",
    "    numberOfLines = len(fr.readlines())  # get the number of lines in the file\n",
    "    returnMat = np.zeros((numberOfLines, 3))  # create matrix to return\n",
    "    classLabelVector = []  # create label vector\n",
    "    fr = open(filename)\n",
    "    index = 0\n",
    "    for line in fr.readlines():\n",
    "        line = line.strip()\n",
    "        listFromLine = line.split('\\t')\n",
    "        returnMat[index, :] = listFromLine[0:3]\n",
    "        classLabelVector.append(listFromLine[-1])\n",
    "        index += 1\n",
    "    return returnMat, classLabelVector\n",
    "\n",
    "# Normalize the dataset to range [0, 1]\n",
    "def autoNorm(dataSet):\n",
    "    minVals = dataSet.min(0)\n",
    "    maxVals = dataSet.max(0)\n",
    "    ranges = maxVals - minVals\n",
    "    normDataSet = np.zeros(np.shape(dataSet))\n",
    "    m = dataSet.shape[0]\n",
    "    normDataSet = dataSet - np.tile(minVals, (m, 1))\n",
    "    normDataSet = normDataSet / np.tile(ranges, (m, 1))\n",
    "    return normDataSet, ranges, minVals\n",
    "\n",
    "# k-Nearest Neighbors algorithm\n",
    "def classify0(inX, dataSet, labels, k):\n",
    "    dataSetSize = dataSet.shape[0]\n",
    "    diffMat = np.tile(inX, (dataSetSize, 1)) - dataSet\n",
    "    sqDiffMat = diffMat**2\n",
    "    sqDistances = sqDiffMat.sum(axis=1)\n",
    "    distances = sqDistances**0.5\n",
    "    sortedDistIndices = distances.argsort()\n",
    "    classCount = {}\n",
    "    for i in range(k):\n",
    "        voteIlabel = labels[sortedDistIndices[i]]\n",
    "        classCount[voteIlabel] = classCount.get(voteIlabel, 0) + 1\n",
    "    sortedClassCount = sorted(classCount.items(), key=lambda item: item[1], reverse=True)\n",
    "    return sortedClassCount[0][0]\n",
    "\n",
    "# Testing the classifier\n",
    "def datingClassTest():\n",
    "    hoRatio = 0.10  # hold-out 10%\n",
    "    datingDataMat, datingLabels = file2matrix('datingTestSet.txt')\n",
    "    normMat, ranges, minVals = autoNorm(datingDataMat)\n",
    "    m = normMat.shape[0]\n",
    "    numTestVecs = int(m * hoRatio)\n",
    "    errorCount = 0.0\n",
    "    for i in range(numTestVecs):\n",
    "        classifierResult = classify0(normMat[i, :], normMat[numTestVecs:m, :], datingLabels[numTestVecs:m:], 3)\n",
    "        print(f\"the classifier came back with: {classifierResult}, the real answer is: {datingLabels[i]}\")\n",
    "        if classifierResult != datingLabels[i]:\n",
    "            errorCount += 1.0\n",
    "    print(f\"the total error rate is: {errorCount / float(numTestVecs)}\")\n",
    "\n",
    "# Predicting match category based on user input\n",
    "def classifyPerson():\n",
    "    resultList = ['didntLike', 'smallDoses', 'largeDoses']\n",
    "    percentTats = float(input(\"percentage of time spent playing video games?\"))\n",
    "    ffMiles = float(input(\"frequent flier miles earned per year?\"))\n",
    "    iceCream = float(input(\"liters of ice cream consumed per year?\"))\n",
    "    datingDataMat, datingLabels = file2matrix('datingTestSet.txt')\n",
    "    normMat, ranges, minVals = autoNorm(datingDataMat)\n",
    "    inArr = np.array([ffMiles, percentTats, iceCream])\n",
    "    classifierResult = classify0((inArr - minVals) / ranges, normMat, datingLabels, 3)\n",
    "    print(\"You will probably like this person: \",classifierResult)\n",
    "\n",
    "\n",
    "# Load and test the functions\n",
    "datingDataMat, datingLabels = file2matrix('datingTestSet.txt')\n",
    "normMat, ranges, minVals = autoNorm(datingDataMat)\n",
    "\n",
    "classifyPerson()"
   ]
  },
  {
   "cell_type": "code",
   "execution_count": null,
   "id": "ef1eb107-c8e1-42bb-b3f9-fe59e594c98e",
   "metadata": {},
   "outputs": [],
   "source": [
    "#small dose 10,10000,0.5\n",
    "#large dose 10 50000, 0.4\n",
    "#didn't like it 13 75000 1.2"
   ]
  }
 ],
 "metadata": {
  "kernelspec": {
   "display_name": "Python 3 (ipykernel)",
   "language": "python",
   "name": "python3"
  },
  "language_info": {
   "codemirror_mode": {
    "name": "ipython",
    "version": 3
   },
   "file_extension": ".py",
   "mimetype": "text/x-python",
   "name": "python",
   "nbconvert_exporter": "python",
   "pygments_lexer": "ipython3",
   "version": "3.11.7"
  }
 },
 "nbformat": 4,
 "nbformat_minor": 5
}
