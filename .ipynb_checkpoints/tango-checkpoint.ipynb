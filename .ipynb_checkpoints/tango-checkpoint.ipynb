{
 "cells": [
  {
   "cell_type": "code",
   "execution_count": 149,
   "id": "5fa4ef4c-1458-4701-a837-bea5610a95fe",
   "metadata": {},
   "outputs": [],
   "source": [
    "import pandas as pd\n",
    "import numpy as np\n",
    "from sklearn.preprocessing import LabelEncoder\n",
    "from sklearn.preprocessing import StandardScaler\n",
    "from sklearn.model_selection import train_test_split\n",
    "from sklearn.neighbors import KNeighborsClassifier\n",
    "from sklearn.metrics import accuracy_score\n",
    "\n"
   ]
  },
  {
   "cell_type": "code",
   "execution_count": 150,
   "id": "63ecd152-4a78-4d66-9983-037c59707ffd",
   "metadata": {
    "scrolled": true
   },
   "outputs": [],
   "source": [
    "import numpy as np\n",
    "from collections import Counter\n",
    "\n",
    "class Knn:\n",
    "\n",
    "    def __init__(self,k=5):\n",
    "        self.n_neighbors = k\n",
    "        self.X_train = None\n",
    "        self.y_train = None\n",
    "\n",
    "    def fit(self,X_train,y_train):\n",
    "        self.X_train = X_train\n",
    "        self.y_train = y_train\n",
    "\n",
    "    def predict(self,X_test):\n",
    "\n",
    "        y_pred = []\n",
    "\n",
    "        for i in X_test:\n",
    "            # calculate distance with each training point\n",
    "            distances = []\n",
    "            for j in self.X_train:\n",
    "                distances.append(self.calculate_distance(i,j))\n",
    "            n_neighbors = sorted(list(enumerate(distances)),key=lambda x:x[1])[0:self.n_neighbors]\n",
    "            label = self.majority_count(n_neighbors)\n",
    "            y_pred.append(label)\n",
    "        return np.array(y_pred)\n",
    "\n",
    "\n",
    "    def calculate_distance(self,point_A,point_B):\n",
    "        return np.linalg.norm(point_A - point_B)\n",
    "\n",
    "    def majority_count(self,neighbors):\n",
    "        votes = []\n",
    "        for i in neighbors:\n",
    "            votes.append(self.y_train[i[0]])\n",
    "        votes = Counter(votes)\n",
    "\n",
    "        return votes.most_common()[0][0]\n",
    "        \n",
    "    def file2matrix(filename):\n",
    "      fr = open(filename)\n",
    "      numberOfLines = len(fr.readlines())\n",
    "      returnMat = np.zeros((numberOfLines,3))\n",
    "      classLabelVector = []\n",
    "      fr = open(filename)\n",
    "      index = 0\n",
    "      for line in fr.readlines():\n",
    "        line = line.strip()\n",
    "        listFromLine = line.split('\\t')\n",
    "        returnMat[index,:] = listFromLine[0:3]\n",
    "        classLabelVector.append((listFromLine[-1]))\n",
    "        index += 1\n",
    "      return returnMat,classLabelVector \n",
    "\n",
    "    def autoNorm(dataSet):\n",
    "       minVals = dataSet.min(0)\n",
    "       maxVals = dataSet.max(0)\n",
    "       ranges = maxVals - minVals\n",
    "       normDataSet = np.zeros(shape(dataSet))\n",
    "       m = dataSet.shape[0]\n",
    "       normDataSet = dataSet - tile(minVals, (m,1))\n",
    "       normDataSet = normDataSet/tile(ranges, (m,1))\n",
    "       return normDataSet, ranges, minVals\n",
    "\n",
    "    def classifyPerson():\n",
    "      resultList = ['not at all','in small doses', 'in large doses']\n",
    "      percentTats = float(input(\"percentage of time spent playing video games?\"))\n",
    "      ffMiles = float(input(\"frequent flier miles earned per year?\"))\n",
    "      iceCream = float(input(\"liters of ice cream consumed per year?\"))\n",
    "      datingDataMat,datingLabels = file2matrix('datingTestSet.txt')\n",
    "      normMat, ranges, minVals = autoNorm(datingDataMat)\n",
    "      inArr = np.array([ffMiles, percentTats, iceCream])\n",
    "      classifierResult = classify0((inArr-minVals)/ranges,normMat,datingLabels,3)\n",
    "      print (\"You will probably like this person: \",resultList[classifierResult - 1])"
   ]
  },
  {
   "cell_type": "code",
   "execution_count": 151,
   "id": "df3b51f4-9df0-4c63-82dd-e0a25ae94663",
   "metadata": {},
   "outputs": [
    {
     "name": "stdin",
     "output_type": "stream",
     "text": [
      "percentage of time spent playing video games? 10\n",
      "frequent flier miles earned per year? 10000\n",
      "liters of ice cream consumed per year? 0.5\n"
     ]
    },
    {
     "ename": "NameError",
     "evalue": "name 'zeros' is not defined",
     "output_type": "error",
     "traceback": [
      "\u001b[1;31m---------------------------------------------------------------------------\u001b[0m",
      "\u001b[1;31mNameError\u001b[0m                                 Traceback (most recent call last)",
      "Cell \u001b[1;32mIn[151], line 2\u001b[0m\n\u001b[0;32m      1\u001b[0m datingDataMat,datingLabels \u001b[38;5;241m=\u001b[39m Knn\u001b[38;5;241m.\u001b[39mfile2matrix(\u001b[38;5;124m'\u001b[39m\u001b[38;5;124mdatingTestSet.txt\u001b[39m\u001b[38;5;124m'\u001b[39m)\n\u001b[1;32m----> 2\u001b[0m \u001b[43mKnn\u001b[49m\u001b[38;5;241;43m.\u001b[39;49m\u001b[43mclassifyPerson\u001b[49m\u001b[43m(\u001b[49m\u001b[43m)\u001b[49m\n",
      "Cell \u001b[1;32mIn[150], line 71\u001b[0m, in \u001b[0;36mKnn.classifyPerson\u001b[1;34m()\u001b[0m\n\u001b[0;32m     69\u001b[0m ffMiles \u001b[38;5;241m=\u001b[39m \u001b[38;5;28mfloat\u001b[39m(\u001b[38;5;28minput\u001b[39m(\u001b[38;5;124m\"\u001b[39m\u001b[38;5;124mfrequent flier miles earned per year?\u001b[39m\u001b[38;5;124m\"\u001b[39m))\n\u001b[0;32m     70\u001b[0m iceCream \u001b[38;5;241m=\u001b[39m \u001b[38;5;28mfloat\u001b[39m(\u001b[38;5;28minput\u001b[39m(\u001b[38;5;124m\"\u001b[39m\u001b[38;5;124mliters of ice cream consumed per year?\u001b[39m\u001b[38;5;124m\"\u001b[39m))\n\u001b[1;32m---> 71\u001b[0m datingDataMat,datingLabels \u001b[38;5;241m=\u001b[39m \u001b[43mfile2matrix\u001b[49m\u001b[43m(\u001b[49m\u001b[38;5;124;43m'\u001b[39;49m\u001b[38;5;124;43mdatingTestSet.txt\u001b[39;49m\u001b[38;5;124;43m'\u001b[39;49m\u001b[43m)\u001b[49m\n\u001b[0;32m     72\u001b[0m normMat, ranges, minVals \u001b[38;5;241m=\u001b[39m autoNorm(datingDataMat)\n\u001b[0;32m     73\u001b[0m inArr \u001b[38;5;241m=\u001b[39m np\u001b[38;5;241m.\u001b[39marray([ffMiles, percentTats, iceCream])\n",
      "Cell \u001b[1;32mIn[32], line 4\u001b[0m, in \u001b[0;36mfile2matrix\u001b[1;34m(filename)\u001b[0m\n\u001b[0;32m      2\u001b[0m fr \u001b[38;5;241m=\u001b[39m \u001b[38;5;28mopen\u001b[39m(filename)\n\u001b[0;32m      3\u001b[0m numberOfLines \u001b[38;5;241m=\u001b[39m \u001b[38;5;28mlen\u001b[39m(fr\u001b[38;5;241m.\u001b[39mreadlines())\n\u001b[1;32m----> 4\u001b[0m returnMat \u001b[38;5;241m=\u001b[39m \u001b[43mzeros\u001b[49m((numberOfLines,\u001b[38;5;241m3\u001b[39m))\n\u001b[0;32m      5\u001b[0m classLabelVector \u001b[38;5;241m=\u001b[39m []\n\u001b[0;32m      6\u001b[0m fr \u001b[38;5;241m=\u001b[39m \u001b[38;5;28mopen\u001b[39m(filename)\n",
      "\u001b[1;31mNameError\u001b[0m: name 'zeros' is not defined"
     ]
    }
   ],
   "source": [
    "datingDataMat,datingLabels = Knn.file2matrix('datingTestSet.txt')\n",
    "Knn.classifyPerson()"
   ]
  },
  {
   "cell_type": "code",
   "execution_count": null,
   "id": "f0b65fa0-857b-4abf-81bc-dfba1d4cd3a3",
   "metadata": {},
   "outputs": [],
   "source": []
  }
 ],
 "metadata": {
  "kernelspec": {
   "display_name": "Python 3 (ipykernel)",
   "language": "python",
   "name": "python3"
  },
  "language_info": {
   "codemirror_mode": {
    "name": "ipython",
    "version": 3
   },
   "file_extension": ".py",
   "mimetype": "text/x-python",
   "name": "python",
   "nbconvert_exporter": "python",
   "pygments_lexer": "ipython3",
   "version": "3.11.7"
  }
 },
 "nbformat": 4,
 "nbformat_minor": 5
}
